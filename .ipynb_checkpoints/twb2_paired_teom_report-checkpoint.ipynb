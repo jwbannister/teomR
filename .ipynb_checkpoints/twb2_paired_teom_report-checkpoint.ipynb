{
 "cells": [
  {
   "cell_type": "markdown",
   "metadata": {},
   "source": [
    "# TILLAGE WITH BACM BACKUP PM10 MONITORING FOR FEBRUARY 2016"
   ]
  },
  {
   "cell_type": "markdown",
   "metadata": {},
   "source": [
    "**PREPARED BY:** John Bannister, Air Sciences Inc."
   ]
  },
  {
   "cell_type": "markdown",
   "metadata": {},
   "source": [
    "**PROJECT NO.:** 410-04-33"
   ]
  },
  {
   "cell_type": "markdown",
   "metadata": {},
   "source": [
    "**DATE:** March 14, 2016"
   ]
  },
  {
   "cell_type": "markdown",
   "metadata": {},
   "source": [
    "## INPUT DATE RANGE FOR ANALYSIS"
   ]
  },
  {
   "cell_type": "code",
   "execution_count": null,
   "metadata": {
    "collapsed": true
   },
   "outputs": [],
   "source": [
    "date1 <- \"2016-02-01\"\n",
    "date2 <- \"2016-03-01\""
   ]
  },
  {
   "cell_type": "code",
   "execution_count": 1,
   "metadata": {
    "collapsed": false
   },
   "outputs": [
    {
     "name": "stderr",
     "output_type": "stream",
     "text": [
      "Loading teomR\n",
      "Loading Rowens\n",
      "\n",
      "Attaching package: ‘dplyr’\n",
      "\n",
      "The following objects are masked from ‘package:stats’:\n",
      "\n",
      "    filter, lag\n",
      "\n",
      "The following objects are masked from ‘package:base’:\n",
      "\n",
      "    intersect, setdiff, setequal, union\n",
      "\n"
     ]
    }
   ],
   "source": [
    "devtools::load_all()\n",
    "devtools::load_all(\"../Rowens\")\n",
    "library(dplyr)"
   ]
  },
  {
   "cell_type": "code",
   "execution_count": 12,
   "metadata": {
    "collapsed": false
   },
   "outputs": [
    {
     "name": "stdout",
     "output_type": "stream",
     "text": [
      "[1] \"pulling wind data from teoms.teom_summary_data...\"\n",
      "[1] \"pulling wind and pm10 data from archive.mfile_data...\"\n"
     ]
    }
   ],
   "source": [
    "teom_met <- pull_teom_wind(date1, date2)\n",
    "mfile <- pull_mfile(date1, date2)\n",
    "df1 <- rbind(teom_met, mfile)"
   ]
  },
  {
   "cell_type": "code",
   "execution_count": 3,
   "metadata": {
    "collapsed": false
   },
   "outputs": [
    {
     "name": "stdout",
     "output_type": "stream",
     "text": [
      "[1] \"pulling PM10 data from teoms.deployment_data...\"\n",
      "[1] \"removing 4 hours with pm10.avg < -35\"\n"
     ]
    }
   ],
   "source": [
    "deploys <- as.character(unique(df1$deployment.id))\n",
    "teom_locs <- pull_locations(deploys)\n",
    "pm10_df <- pull_pm10(date1, date2, deploys)"
   ]
  },
  {
   "cell_type": "code",
   "execution_count": 4,
   "metadata": {
    "collapsed": false
   },
   "outputs": [
    {
     "data": {
      "text/html": [
       "<table>\n",
       "<thead><tr><th></th><th scope=col>day</th><th scope=col>site</th><th scope=col>hours</th><th scope=col>flag</th></tr></thead>\n",
       "<tbody>\n",
       "\t<tr><th scope=row>1</th><td>2016-02-01</td><td>T2-1</td><td>15</td><td>pm10</td></tr>\n",
       "\t<tr><th scope=row>2</th><td>2016-02-02</td><td>T2-1</td><td>24</td><td>pm10</td></tr>\n",
       "\t<tr><th scope=row>3</th><td>2016-02-03</td><td>T2-1</td><td>24</td><td>pm10</td></tr>\n",
       "\t<tr><th scope=row>4</th><td>2016-02-04</td><td>T2-1</td><td>24</td><td>pm10</td></tr>\n",
       "\t<tr><th scope=row>5</th><td>2016-02-05</td><td>T2-1</td><td>19</td><td>pm10</td></tr>\n",
       "\t<tr><th scope=row>6</th><td>2016-02-08</td><td>T29-4S</td><td>14</td><td>pm10</td></tr>\n",
       "\t<tr><th scope=row>7</th><td>2016-02-09</td><td>T29-4S</td><td>24</td><td>pm10</td></tr>\n",
       "\t<tr><th scope=row>8</th><td>2016-02-10</td><td>T29-4S</td><td>22</td><td>pm10</td></tr>\n",
       "\t<tr><th scope=row>9</th><td>2016-02-10</td><td>T7</td><td>16</td><td>pm10</td></tr>\n",
       "\t<tr><th scope=row>10</th><td>2016-02-10</td><td>T7</td><td>16</td><td>wind</td></tr>\n",
       "\t<tr><th scope=row>11</th><td>2016-02-11</td><td>T29-4S</td><td>16</td><td>pm10</td></tr>\n",
       "\t<tr><th scope=row>12</th><td>2016-02-11</td><td>T7</td><td>24</td><td>pm10</td></tr>\n",
       "\t<tr><th scope=row>13</th><td>2016-02-11</td><td>T7</td><td>24</td><td>wind</td></tr>\n",
       "\t<tr><th scope=row>14</th><td>2016-02-12</td><td>T7</td><td>24</td><td>pm10</td></tr>\n",
       "\t<tr><th scope=row>15</th><td>2016-02-12</td><td>T7</td><td>24</td><td>wind</td></tr>\n",
       "\t<tr><th scope=row>16</th><td>2016-02-13</td><td>T7</td><td>24</td><td>pm10</td></tr>\n",
       "\t<tr><th scope=row>17</th><td>2016-02-13</td><td>T7</td><td>24</td><td>wind</td></tr>\n",
       "\t<tr><th scope=row>18</th><td>2016-02-14</td><td>T7</td><td>24</td><td>pm10</td></tr>\n",
       "\t<tr><th scope=row>19</th><td>2016-02-14</td><td>T7</td><td>24</td><td>wind</td></tr>\n",
       "\t<tr><th scope=row>20</th><td>2016-02-15</td><td>T7</td><td>24</td><td>pm10</td></tr>\n",
       "\t<tr><th scope=row>21</th><td>2016-02-15</td><td>T7</td><td>24</td><td>wind</td></tr>\n",
       "\t<tr><th scope=row>22</th><td>2016-02-16</td><td>T7</td><td>9</td><td>pm10</td></tr>\n",
       "\t<tr><th scope=row>23</th><td>2016-02-16</td><td>T7</td><td>9</td><td>wind</td></tr>\n",
       "\t<tr><th scope=row>24</th><td>2016-02-18</td><td>T29-4S</td><td>1</td><td>pm10</td></tr>\n",
       "\t<tr><th scope=row>25</th><td>2016-02-22</td><td>T29-4S</td><td>3</td><td>pm10</td></tr>\n",
       "\t<tr><th scope=row>26</th><td>2016-02-23</td><td>T7</td><td>10</td><td>pm10</td></tr>\n",
       "\t<tr><th scope=row>27</th><td>2016-02-23</td><td>T7</td><td>10</td><td>wind</td></tr>\n",
       "\t<tr><th scope=row>28</th><td>2016-02-24</td><td>T7</td><td>24</td><td>pm10</td></tr>\n",
       "\t<tr><th scope=row>29</th><td>2016-02-24</td><td>T7</td><td>24</td><td>wind</td></tr>\n",
       "\t<tr><th scope=row>30</th><td>2016-02-25</td><td>T7</td><td>9</td><td>pm10</td></tr>\n",
       "\t<tr><th scope=row>31</th><td>2016-02-25</td><td>T7</td><td>9</td><td>wind</td></tr>\n",
       "</tbody>\n",
       "</table>\n"
      ],
      "text/latex": [
       "\\begin{tabular}{r|llll}\n",
       "  & day & site & hours & flag\\\\\n",
       "\\hline\n",
       "\t1 & 2016-02-01 & T2-1 & 15 & pm10\\\\\n",
       "\t2 & 2016-02-02 & T2-1 & 24 & pm10\\\\\n",
       "\t3 & 2016-02-03 & T2-1 & 24 & pm10\\\\\n",
       "\t4 & 2016-02-04 & T2-1 & 24 & pm10\\\\\n",
       "\t5 & 2016-02-05 & T2-1 & 19 & pm10\\\\\n",
       "\t6 & 2016-02-08 & T29-4S & 14 & pm10\\\\\n",
       "\t7 & 2016-02-09 & T29-4S & 24 & pm10\\\\\n",
       "\t8 & 2016-02-10 & T29-4S & 22 & pm10\\\\\n",
       "\t9 & 2016-02-10 & T7 & 16 & pm10\\\\\n",
       "\t10 & 2016-02-10 & T7 & 16 & wind\\\\\n",
       "\t11 & 2016-02-11 & T29-4S & 16 & pm10\\\\\n",
       "\t12 & 2016-02-11 & T7 & 24 & pm10\\\\\n",
       "\t13 & 2016-02-11 & T7 & 24 & wind\\\\\n",
       "\t14 & 2016-02-12 & T7 & 24 & pm10\\\\\n",
       "\t15 & 2016-02-12 & T7 & 24 & wind\\\\\n",
       "\t16 & 2016-02-13 & T7 & 24 & pm10\\\\\n",
       "\t17 & 2016-02-13 & T7 & 24 & wind\\\\\n",
       "\t18 & 2016-02-14 & T7 & 24 & pm10\\\\\n",
       "\t19 & 2016-02-14 & T7 & 24 & wind\\\\\n",
       "\t20 & 2016-02-15 & T7 & 24 & pm10\\\\\n",
       "\t21 & 2016-02-15 & T7 & 24 & wind\\\\\n",
       "\t22 & 2016-02-16 & T7 & 9 & pm10\\\\\n",
       "\t23 & 2016-02-16 & T7 & 9 & wind\\\\\n",
       "\t24 & 2016-02-18 & T29-4S & 1 & pm10\\\\\n",
       "\t25 & 2016-02-22 & T29-4S & 3 & pm10\\\\\n",
       "\t26 & 2016-02-23 & T7 & 10 & pm10\\\\\n",
       "\t27 & 2016-02-23 & T7 & 10 & wind\\\\\n",
       "\t28 & 2016-02-24 & T7 & 24 & pm10\\\\\n",
       "\t29 & 2016-02-24 & T7 & 24 & wind\\\\\n",
       "\t30 & 2016-02-25 & T7 & 9 & pm10\\\\\n",
       "\t31 & 2016-02-25 & T7 & 9 & wind\\\\\n",
       "\\end{tabular}\n"
      ],
      "text/plain": [
       "Source: local data frame [31 x 4]\n",
       "\n",
       "          day   site hours  flag\n",
       "       (date)  (chr) (int) (chr)\n",
       "1  2016-02-01   T2-1    15  pm10\n",
       "2  2016-02-02   T2-1    24  pm10\n",
       "3  2016-02-03   T2-1    24  pm10\n",
       "4  2016-02-04   T2-1    24  pm10\n",
       "5  2016-02-05   T2-1    19  pm10\n",
       "6  2016-02-08 T29-4S    14  pm10\n",
       "7  2016-02-09 T29-4S    24  pm10\n",
       "8  2016-02-10 T29-4S    22  pm10\n",
       "9  2016-02-10     T7    16  pm10\n",
       "10 2016-02-10     T7    16  wind\n",
       "..        ...    ...   ...   ..."
      ]
     },
     "execution_count": 4,
     "metadata": {},
     "output_type": "execute_result"
    }
   ],
   "source": [
    "teom_data <- inner_join(df1, select(teom_locs, deployment.id, deployment),\n",
    "                  by=\"deployment.id\") %>%\n",
    "  left_join(pm10_df, by=c(\"datetime\"=\"datetime_hour\", \"deployment\")) %>%\n",
    "  mutate(pm10 = ifelse(is.na(pm10.avg.x), pm10.avg.y, pm10.avg.x)) %>%\n",
    "  select(-pm10.avg.x, -pm10.avg.y) \n",
    "find_missing(teom_data)"
   ]
  },
  {
   "cell_type": "code",
   "execution_count": 5,
   "metadata": {
    "collapsed": false
   },
   "outputs": [],
   "source": [
    "teom_locs <- pair_teoms(teom_locs)\n",
    "teom_locs <- assign_wind_angle(teom_locs)\n",
    "df1 <- inner_join(teom_data, select(teom_locs, deployment.id, dca.group, position), by=\"deployment.id\")\n",
    "events <- define_event(df1, teom_locs)\n",
    "joined_events <- inner_join(filter(events, tag==\"UW\"), filter(events, tag==\"DW\"), by=c(\"datetime\", \"dca.group\"))"
   ]
  },
  {
   "cell_type": "code",
   "execution_count": 7,
   "metadata": {
    "collapsed": false
   },
   "outputs": [],
   "source": [
    "clean_events <- joined_events %>% \n",
    "  group_by(data.id.x) %>%\n",
    "  dplyr::select(datetime, dca.group,\n",
    "                teom.uw=deployment.x, ws.uw=ws.x, wd.uw=wd.x, \n",
    "                pm10.uw=pm10.x, \n",
    "                teom.dw=deployment.y, ws.dw=ws.y, wd.dw=wd.y, \n",
    "                pm10.dw=pm10.y) %>%\n",
    "  mutate(day=lubridate::day(datetime),\n",
    "         ws.avg=mean(c(ws.uw, ws.dw))) %>%\n",
    "  filter(ws.uw!=0,  ws.dw!=0) %>% arrange(datetime) %>%\n",
    "  ungroup() \n",
    "daily_summary <- clean_events %>% group_by(day, dca.group) %>%\n",
    "  summarize(daily.pm10.uw=sum(pm10.uw)/24, daily.pm10.dw=sum(pm10.dw)/24,\n",
    "            # convert wind speed from mph to m/s\n",
    "            ws.avg.mps=mean(c(ws.uw, ws.dw))*.44704) %>%\n",
    "mutate(pm10.delta=daily.pm10.dw - daily.pm10.uw) %>% ungroup()\n",
    "daily_summary[ , 3:6] <- round(daily_summary[ , 3:6], 2)"
   ]
  },
  {
   "cell_type": "code",
   "execution_count": 8,
   "metadata": {
    "collapsed": false
   },
   "outputs": [
    {
     "data": {
      "text/html": [
       "<table>\n",
       "<thead><tr><th></th><th scope=col>day</th><th scope=col>dca.group</th><th scope=col>daily.pm10.uw</th><th scope=col>daily.pm10.dw</th><th scope=col>ws.avg.mps</th><th scope=col>pm10.delta</th></tr></thead>\n",
       "<tbody>\n",
       "\t<tr><th scope=row>1</th><td>1</td><td>central (T12)</td><td>0.58</td><td>0.66</td><td>3.81</td><td>0.08</td></tr>\n",
       "\t<tr><th scope=row>2</th><td>1</td><td>north (T29)</td><td>2.99</td><td>2.83</td><td>4.65</td><td>-0.16</td></tr>\n",
       "\t<tr><th scope=row>3</th><td>1</td><td>south (T2 & T3)</td><td>0.13</td><td>NA</td><td>3.93</td><td>NA</td></tr>\n",
       "\t<tr><th scope=row>4</th><td>2</td><td>north (T29)</td><td>0.8</td><td>0.71</td><td>1.33</td><td>-0.09</td></tr>\n",
       "\t<tr><th scope=row>5</th><td>3</td><td>north (T29)</td><td>0.23</td><td>0.27</td><td>0.59</td><td>0.05</td></tr>\n",
       "\t<tr><th scope=row>6</th><td>4</td><td>north (T29)</td><td>0.3</td><td>0.31</td><td>0.66</td><td>0.01</td></tr>\n",
       "</tbody>\n",
       "</table>\n"
      ],
      "text/latex": [
       "\\begin{tabular}{r|llllll}\n",
       "  & day & dca.group & daily.pm10.uw & daily.pm10.dw & ws.avg.mps & pm10.delta\\\\\n",
       "\\hline\n",
       "\t1 & 1 & central (T12) & 0.58 & 0.66 & 3.81 & 0.08\\\\\n",
       "\t2 & 1 & north (T29) & 2.99 & 2.83 & 4.65 & -0.16\\\\\n",
       "\t3 & 1 & south (T2 & T3) & 0.13 & NA & 3.93 & NA\\\\\n",
       "\t4 & 2 & north (T29) & 0.8 & 0.71 & 1.33 & -0.09\\\\\n",
       "\t5 & 3 & north (T29) & 0.23 & 0.27 & 0.59 & 0.05\\\\\n",
       "\t6 & 4 & north (T29) & 0.3 & 0.31 & 0.66 & 0.01\\\\\n",
       "\\end{tabular}\n"
      ],
      "text/plain": [
       "Source: local data frame [6 x 6]\n",
       "\n",
       "    day       dca.group daily.pm10.uw daily.pm10.dw ws.avg.mps pm10.delta\n",
       "  (int)           (chr)         (dbl)         (dbl)      (dbl)      (dbl)\n",
       "1     1   central (T12)          0.58          0.66       3.81       0.08\n",
       "2     1     north (T29)          2.99          2.83       4.65      -0.16\n",
       "3     1 south (T2 & T3)          0.13            NA       3.93         NA\n",
       "4     2     north (T29)          0.80          0.71       1.33      -0.09\n",
       "5     3     north (T29)          0.23          0.27       0.59       0.05\n",
       "6     4     north (T29)          0.30          0.31       0.66       0.01"
      ]
     },
     "execution_count": 8,
     "metadata": {},
     "output_type": "execute_result"
    }
   ],
   "source": [
    "head(daily_summary)"
   ]
  },
  {
   "cell_type": "code",
   "execution_count": 9,
   "metadata": {
    "collapsed": false
   },
   "outputs": [
    {
     "data": {
      "text/html": [
       "<table>\n",
       "<thead><tr><th></th><th scope=col>day</th><th scope=col>dca.group</th><th scope=col>daily.pm10.uw</th><th scope=col>daily.pm10.dw</th><th scope=col>ws.avg.mps</th><th scope=col>pm10.delta</th></tr></thead>\n",
       "<tbody>\n",
       "\t<tr><th scope=row>1</th><td>14</td><td>north (T29)</td><td>3.31</td><td>16.26</td><td>3.47</td><td>12.96</td></tr>\n",
       "</tbody>\n",
       "</table>\n"
      ],
      "text/latex": [
       "\\begin{tabular}{r|llllll}\n",
       "  & day & dca.group & daily.pm10.uw & daily.pm10.dw & ws.avg.mps & pm10.delta\\\\\n",
       "\\hline\n",
       "\t1 & 14 & north (T29) & 3.31 & 16.26 & 3.47 & 12.96\\\\\n",
       "\\end{tabular}\n"
      ],
      "text/plain": [
       "Source: local data frame [1 x 6]\n",
       "\n",
       "    day   dca.group daily.pm10.uw daily.pm10.dw ws.avg.mps pm10.delta\n",
       "  (int)       (chr)         (dbl)         (dbl)      (dbl)      (dbl)\n",
       "1    14 north (T29)          3.31         16.26       3.47      12.96"
      ]
     },
     "execution_count": 9,
     "metadata": {},
     "output_type": "execute_result"
    }
   ],
   "source": [
    "filter(daily_summary, pm10.delta > 10)"
   ]
  },
  {
   "cell_type": "code",
   "execution_count": 13,
   "metadata": {
    "collapsed": false,
    "scrolled": true
   "outputs": [
    {
     "data": {
      "text/html": [
       "<table>\n",
       "<thead><tr><th></th><th scope=col>day</th><th scope=col>dca.group</th><th scope=col>daily.pm10.uw</th><th scope=col>daily.pm10.dw</th><th scope=col>ws.avg.mps</th><th scope=col>pm10.delta</th></tr></thead>\n",
       "<tbody>\n",
       "\t<tr><th scope=row>1</th><td>14</td><td>north (T29)</td><td>3.31</td><td>16.26</td><td>3.47</td><td>12.96</td></tr>\n",
       "\t<tr><th scope=row>2</th><td>17</td><td>central (T12)</td><td>6.45</td><td>16.39</td><td>4.47</td><td>9.93</td></tr>\n",
       "\t<tr><th scope=row>3</th><td>18</td><td>north (T29)</td><td>2.1</td><td>3.46</td><td>4.45</td><td>1.36</td></tr>\n",
       "\t<tr><th scope=row>4</th><td>7</td><td>north (T29)</td><td>1.85</td><td>2.99</td><td>3.52</td><td>1.14</td></tr>\n",
       "\t<tr><th scope=row>5</th><td>26</td><td>central (T12)</td><td>0.77</td><td>1.28</td><td>3.85</td><td>0.51</td></tr>\n",
       "\t<tr><th scope=row>6</th><td>27</td><td>north (T29)</td><td>0.73</td><td>1.04</td><td>1.11</td><td>0.31</td></tr>\n",
       "\t<tr><th scope=row>7</th><td>28</td><td>north (T29)</td><td>0.04</td><td>0.29</td><td>1.64</td><td>0.25</td></tr>\n",
       "\t<tr><th scope=row>8</th><td>23</td><td>central (T12)</td><td>1.22</td><td>1.39</td><td>3.12</td><td>0.17</td></tr>\n",
       "\t<tr><th scope=row>9</th><td>16</td><td>south (T2 & T3)</td><td>0.11</td><td>0.24</td><td>1.12</td><td>0.13</td></tr>\n",
       "\t<tr><th scope=row>10</th><td>29</td><td>north (T29)</td><td>0.84</td><td>0.94</td><td>1.74</td><td>0.1</td></tr>\n",
       "</tbody>\n",
       "</table>\n"
      ],
      "text/latex": [
       "\\begin{tabular}{r|llllll}\n",
       "  & day & dca.group & daily.pm10.uw & daily.pm10.dw & ws.avg.mps & pm10.delta\\\\\n",
       "\\hline\n",
       "\t1 & 14 & north (T29) & 3.31 & 16.26 & 3.47 & 12.96\\\\\n",
       "\t2 & 17 & central (T12) & 6.45 & 16.39 & 4.47 & 9.93\\\\\n",
       "\t3 & 18 & north (T29) & 2.1 & 3.46 & 4.45 & 1.36\\\\\n",
       "\t4 & 7 & north (T29) & 1.85 & 2.99 & 3.52 & 1.14\\\\\n",
       "\t5 & 26 & central (T12) & 0.77 & 1.28 & 3.85 & 0.51\\\\\n",
       "\t6 & 27 & north (T29) & 0.73 & 1.04 & 1.11 & 0.31\\\\\n",
       "\t7 & 28 & north (T29) & 0.04 & 0.29 & 1.64 & 0.25\\\\\n",
       "\t8 & 23 & central (T12) & 1.22 & 1.39 & 3.12 & 0.17\\\\\n",
       "\t9 & 16 & south (T2 & T3) & 0.11 & 0.24 & 1.12 & 0.13\\\\\n",
       "\t10 & 29 & north (T29) & 0.84 & 0.94 & 1.74 & 0.1\\\\\n",
       "\\end{tabular}\n"
      ],
      "text/plain": [
       "Source: local data frame [10 x 6]\n",
       "\n",
       "     day       dca.group daily.pm10.uw daily.pm10.dw ws.avg.mps pm10.delta\n",
       "   (int)           (chr)         (dbl)         (dbl)      (dbl)      (dbl)\n",
       "1     14     north (T29)          3.31         16.26       3.47      12.96\n",
       "2     17   central (T12)          6.45         16.39       4.47       9.93\n",
       "3     18     north (T29)          2.10          3.46       4.45       1.36\n",
       "4      7     north (T29)          1.85          2.99       3.52       1.14\n",
       "5     26   central (T12)          0.77          1.28       3.85       0.51\n",
       "6     27     north (T29)          0.73          1.04       1.11       0.31\n",
       "7     28     north (T29)          0.04          0.29       1.64       0.25\n",
       "8     23   central (T12)          1.22          1.39       3.12       0.17\n",
       "9     16 south (T2 & T3)          0.11          0.24       1.12       0.13\n",
       "10    29     north (T29)          0.84          0.94       1.74       0.10"
      ]
     },
     "execution_count": 13,
     "metadata": {},
     "output_type": "execute_result"
    }
   ],
   "source": [
    "head(arrange(daily_summary, desc(pm10.delta)), n=10L)"
   ]
  },
  {
   "cell_type": "code",
   "execution_count": null,
   "metadata": {
    "collapsed": true
   },
   "outputs": [],
   "source": [
    " "
   ]
  }
 ],
 "metadata": {
  "kernelspec": {
   "display_name": "R",
   "language": "R",
   "name": "ir"
  },
  "language_info": {
   "codemirror_mode": "r",
   "file_extension": ".r",
   "mimetype": "text/x-r-source",
   "name": "R",
   "pygments_lexer": "r",
   "version": "3.2.3"
  }
 },
 "nbformat": 4,
 "nbformat_minor": 0
}
