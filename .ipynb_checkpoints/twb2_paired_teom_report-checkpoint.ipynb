{
 "cells": [
  {
   "cell_type": "code",
   "execution_count": 17,
   "metadata": {
    "collapsed": false
   },
   "outputs": [
    {
     "name": "stderr",
     "output_type": "stream",
     "text": [
      "Loading teomR\n",
      "Loading Rowens\n"
     ]
    }
   ],
   "source": [
    "devtools::load_all()\n",
    "devtools::load_all(\"../Rowens\")\n",
    "library(dplyr)"
   ]
  },
  {
   "cell_type": "code",
   "execution_count": 18,
   "metadata": {
    "collapsed": false
   },
   "outputs": [
    {
     "name": "stdout",
     "output_type": "stream",
     "text": [
      "[1] \"pulling wind data from teoms.teom_summary_data...\"\n",
      "[1] \"pulling wind and pm10 data from archive.mfile_data...\"\n"
     ]
    }
   ],
   "source": [
    "date1 <- \"2016-02-01\"\n",
    "date2 <- \"2016-03-01\"\n",
    "teom_met <- pull_teom_wind(date1, date2)\n",
    "mfile <- pull_mfile(date1, date2)\n",
    "df1 <- rbind(teom_met, mfile)"
   ]
  },
  {
   "cell_type": "code",
   "execution_count": 19,
   "metadata": {
    "collapsed": false
   },
   "outputs": [
    {
     "name": "stdout",
     "output_type": "stream",
     "text": [
      "[1] \"pulling PM10 data from teoms.deployment_data...\"\n",
      "[1] \"removing 4 hours with pm10.avg < -35\"\n"
     ]
    }
   ],
   "source": [
    "deploys <- as.character(unique(df1$deployment.id))\n",
    "locs <- pull_locations(deploys)\n",
    "pm10_df <- pull_pm10(date1, date2, deploys)"
   ]
  },
  {
   "cell_type": "code",
   "execution_count": 21,
   "metadata": {
    "collapsed": false
   },
   "outputs": [
    {
     "data": {
      "text/html": [
       "<table>\n",
       "<thead><tr><th></th><th scope=col>day</th><th scope=col>site</th><th scope=col>hours</th><th scope=col>flag</th></tr></thead>\n",
       "<tbody>\n",
       "\t<tr><th scope=row>1</th><td>2016-02-01</td><td>T2-1</td><td>15</td><td>pm10</td></tr>\n",
       "\t<tr><th scope=row>2</th><td>2016-02-02</td><td>T2-1</td><td>24</td><td>pm10</td></tr>\n",
       "\t<tr><th scope=row>3</th><td>2016-02-03</td><td>T2-1</td><td>24</td><td>pm10</td></tr>\n",
       "\t<tr><th scope=row>4</th><td>2016-02-04</td><td>T2-1</td><td>24</td><td>pm10</td></tr>\n",
       "\t<tr><th scope=row>5</th><td>2016-02-05</td><td>T2-1</td><td>19</td><td>pm10</td></tr>\n",
       "\t<tr><th scope=row>6</th><td>2016-02-08</td><td>T29-4S</td><td>14</td><td>pm10</td></tr>\n",
       "\t<tr><th scope=row>7</th><td>2016-02-09</td><td>T29-4S</td><td>24</td><td>pm10</td></tr>\n",
       "\t<tr><th scope=row>8</th><td>2016-02-10</td><td>T29-4S</td><td>22</td><td>pm10</td></tr>\n",
       "\t<tr><th scope=row>9</th><td>2016-02-10</td><td>T7</td><td>16</td><td>pm10</td></tr>\n",
       "\t<tr><th scope=row>10</th><td>2016-02-10</td><td>T7</td><td>16</td><td>wind</td></tr>\n",
       "\t<tr><th scope=row>11</th><td>2016-02-11</td><td>T29-4S</td><td>16</td><td>pm10</td></tr>\n",
       "\t<tr><th scope=row>12</th><td>2016-02-11</td><td>T7</td><td>24</td><td>pm10</td></tr>\n",
       "\t<tr><th scope=row>13</th><td>2016-02-11</td><td>T7</td><td>24</td><td>wind</td></tr>\n",
       "\t<tr><th scope=row>14</th><td>2016-02-12</td><td>T7</td><td>24</td><td>pm10</td></tr>\n",
       "\t<tr><th scope=row>15</th><td>2016-02-12</td><td>T7</td><td>24</td><td>wind</td></tr>\n",
       "\t<tr><th scope=row>16</th><td>2016-02-13</td><td>T7</td><td>24</td><td>pm10</td></tr>\n",
       "\t<tr><th scope=row>17</th><td>2016-02-13</td><td>T7</td><td>24</td><td>wind</td></tr>\n",
       "\t<tr><th scope=row>18</th><td>2016-02-14</td><td>T7</td><td>24</td><td>pm10</td></tr>\n",
       "\t<tr><th scope=row>19</th><td>2016-02-14</td><td>T7</td><td>24</td><td>wind</td></tr>\n",
       "\t<tr><th scope=row>20</th><td>2016-02-15</td><td>T7</td><td>24</td><td>pm10</td></tr>\n",
       "\t<tr><th scope=row>21</th><td>2016-02-15</td><td>T7</td><td>24</td><td>wind</td></tr>\n",
       "\t<tr><th scope=row>22</th><td>2016-02-16</td><td>T7</td><td>9</td><td>pm10</td></tr>\n",
       "\t<tr><th scope=row>23</th><td>2016-02-16</td><td>T7</td><td>9</td><td>wind</td></tr>\n",
       "\t<tr><th scope=row>24</th><td>2016-02-18</td><td>T29-4S</td><td>1</td><td>pm10</td></tr>\n",
       "\t<tr><th scope=row>25</th><td>2016-02-22</td><td>T29-4S</td><td>3</td><td>pm10</td></tr>\n",
       "\t<tr><th scope=row>26</th><td>2016-02-23</td><td>T7</td><td>10</td><td>pm10</td></tr>\n",
       "\t<tr><th scope=row>27</th><td>2016-02-23</td><td>T7</td><td>10</td><td>wind</td></tr>\n",
       "\t<tr><th scope=row>28</th><td>2016-02-24</td><td>T7</td><td>24</td><td>pm10</td></tr>\n",
       "\t<tr><th scope=row>29</th><td>2016-02-24</td><td>T7</td><td>24</td><td>wind</td></tr>\n",
       "\t<tr><th scope=row>30</th><td>2016-02-25</td><td>T7</td><td>9</td><td>pm10</td></tr>\n",
       "\t<tr><th scope=row>31</th><td>2016-02-25</td><td>T7</td><td>9</td><td>wind</td></tr>\n",
       "</tbody>\n",
       "</table>\n"
      ],
      "text/latex": [
       "\\begin{tabular}{r|llll}\n",
       "  & day & site & hours & flag\\\\\n",
       "\\hline\n",
       "\t1 & 2016-02-01 & T2-1 & 15 & pm10\\\\\n",
       "\t2 & 2016-02-02 & T2-1 & 24 & pm10\\\\\n",
       "\t3 & 2016-02-03 & T2-1 & 24 & pm10\\\\\n",
       "\t4 & 2016-02-04 & T2-1 & 24 & pm10\\\\\n",
       "\t5 & 2016-02-05 & T2-1 & 19 & pm10\\\\\n",
       "\t6 & 2016-02-08 & T29-4S & 14 & pm10\\\\\n",
       "\t7 & 2016-02-09 & T29-4S & 24 & pm10\\\\\n",
       "\t8 & 2016-02-10 & T29-4S & 22 & pm10\\\\\n",
       "\t9 & 2016-02-10 & T7 & 16 & pm10\\\\\n",
       "\t10 & 2016-02-10 & T7 & 16 & wind\\\\\n",
       "\t11 & 2016-02-11 & T29-4S & 16 & pm10\\\\\n",
       "\t12 & 2016-02-11 & T7 & 24 & pm10\\\\\n",
       "\t13 & 2016-02-11 & T7 & 24 & wind\\\\\n",
       "\t14 & 2016-02-12 & T7 & 24 & pm10\\\\\n",
       "\t15 & 2016-02-12 & T7 & 24 & wind\\\\\n",
       "\t16 & 2016-02-13 & T7 & 24 & pm10\\\\\n",
       "\t17 & 2016-02-13 & T7 & 24 & wind\\\\\n",
       "\t18 & 2016-02-14 & T7 & 24 & pm10\\\\\n",
       "\t19 & 2016-02-14 & T7 & 24 & wind\\\\\n",
       "\t20 & 2016-02-15 & T7 & 24 & pm10\\\\\n",
       "\t21 & 2016-02-15 & T7 & 24 & wind\\\\\n",
       "\t22 & 2016-02-16 & T7 & 9 & pm10\\\\\n",
       "\t23 & 2016-02-16 & T7 & 9 & wind\\\\\n",
       "\t24 & 2016-02-18 & T29-4S & 1 & pm10\\\\\n",
       "\t25 & 2016-02-22 & T29-4S & 3 & pm10\\\\\n",
       "\t26 & 2016-02-23 & T7 & 10 & pm10\\\\\n",
       "\t27 & 2016-02-23 & T7 & 10 & wind\\\\\n",
       "\t28 & 2016-02-24 & T7 & 24 & pm10\\\\\n",
       "\t29 & 2016-02-24 & T7 & 24 & wind\\\\\n",
       "\t30 & 2016-02-25 & T7 & 9 & pm10\\\\\n",
       "\t31 & 2016-02-25 & T7 & 9 & wind\\\\\n",
       "\\end{tabular}\n"
      ],
      "text/plain": [
       "Source: local data frame [31 x 4]\n",
       "\n",
       "          day   site hours  flag\n",
       "       (date)  (chr) (int) (chr)\n",
       "1  2016-02-01   T2-1    15  pm10\n",
       "2  2016-02-02   T2-1    24  pm10\n",
       "3  2016-02-03   T2-1    24  pm10\n",
       "4  2016-02-04   T2-1    24  pm10\n",
       "5  2016-02-05   T2-1    19  pm10\n",
       "6  2016-02-08 T29-4S    14  pm10\n",
       "7  2016-02-09 T29-4S    24  pm10\n",
       "8  2016-02-10 T29-4S    22  pm10\n",
       "9  2016-02-10     T7    16  pm10\n",
       "10 2016-02-10     T7    16  wind\n",
       "..        ...    ...   ...   ..."
      ]
     },
     "execution_count": 21,
     "metadata": {},
     "output_type": "execute_result"
    }
   ],
   "source": [
    "teom_data <- inner_join(df1, select(locs, deployment.id, deployment),\n",
    "                  by=\"deployment.id\") %>%\n",
    "  left_join(pm10_df, by=c(\"datetime\"=\"datetime_hour\", \"deployment\")) %>%\n",
    "  mutate(pm10 = ifelse(is.na(pm10.avg.x), pm10.avg.y, pm10.avg.x)) %>%\n",
    "  select(-pm10.avg.x, -pm10.avg.y) \n",
    "find_missing(teom_data)"
   ]
  },
  {
   "cell_type": "code",
   "execution_count": null,
   "metadata": {
    "collapsed": true
   },
   "outputs": [],
   "source": []
  }
 ],
 "metadata": {
  "kernelspec": {
   "display_name": "R",
   "language": "R",
   "name": "ir"
  },
  "language_info": {
   "codemirror_mode": "r",
   "file_extension": ".r",
   "mimetype": "text/x-r-source",
   "name": "R",
   "pygments_lexer": "r",
   "version": "3.2.4"
  }
 },
 "nbformat": 4,
 "nbformat_minor": 0
}
