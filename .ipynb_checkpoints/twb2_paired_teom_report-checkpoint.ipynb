{
 "cells": [
  {
   "cell_type": "markdown",
   "metadata": {},
   "source": [
    "# TILLAGE WITH BACM BACKUP PM10 MONITORING FOR FEBRUARY 2016"
   ]
  },
  {
   "cell_type": "markdown",
   "metadata": {},
   "source": [
    "**PREPARED BY:** John Bannister, Air Sciences Inc."
   ]
  },
  {
   "cell_type": "markdown",
   "metadata": {},
   "source": [
    "**PROJECT NO.:** 410-04-33"
   ]
  },
  {
   "cell_type": "markdown",
   "metadata": {},
   "source": [
    "**DATE:** March 14, 2016"
   ]
  },
  {
   "cell_type": "code",
   "execution_count": 7,
   "metadata": {
    "collapsed": false
   },
   "outputs": [
    {
     "name": "stderr",
     "output_type": "stream",
     "text": [
      "Loading teomR\n",
      "Loading Rowens\n"
     ]
    }
   ],
   "source": [
    "devtools::load_all()\n",
    "devtools::load_all(\"../Rowens\")\n",
    "library(dplyr)"
   ]
  },
  {
   "cell_type": "code",
   "execution_count": 8,
   "metadata": {
    "collapsed": false
   },
   "outputs": [
    {
     "name": "stdout",
     "output_type": "stream",
     "text": [
      "[1] \"pulling wind data from teoms.teom_summary_data...\"\n",
      "[1] \"pulling wind and pm10 data from archive.mfile_data...\"\n"
     ]
    }
   ],
   "source": [
    "date1 <- \"2016-02-01\"\n",
    "date2 <- \"2016-03-01\"\n",
    "teom_met <- pull_teom_wind(date1, date2)\n",
    "mfile <- pull_mfile(date1, date2)\n",
    "df1 <- rbind(teom_met, mfile)"
   ]
  },
  {
   "cell_type": "code",
   "execution_count": 9,
   "metadata": {
    "collapsed": false
   },
   "outputs": [
    {
     "name": "stdout",
     "output_type": "stream",
     "text": [
      "[1] \"pulling PM10 data from teoms.deployment_data...\"\n",
      "[1] \"removing 4 hours with pm10.avg < -35\"\n"
     ]
    }
   ],
   "source": [
    "deploys <- as.character(unique(df1$deployment.id))\n",
    "teom_locs <- pull_locations(deploys)\n",
    "pm10_df <- pull_pm10(date1, date2, deploys)"
   ]
  },
  {
   "cell_type": "code",
   "execution_count": 10,
   "metadata": {
    "collapsed": false
   },
   "outputs": [
    {
     "data": {
      "text/html": [
       "<table>\n",
       "<thead><tr><th></th><th scope=col>day</th><th scope=col>site</th><th scope=col>hours</th><th scope=col>flag</th></tr></thead>\n",
       "<tbody>\n",
       "\t<tr><th scope=row>1</th><td>2016-02-01</td><td>T2-1</td><td>15</td><td>pm10</td></tr>\n",
       "\t<tr><th scope=row>2</th><td>2016-02-02</td><td>T2-1</td><td>24</td><td>pm10</td></tr>\n",
       "\t<tr><th scope=row>3</th><td>2016-02-03</td><td>T2-1</td><td>24</td><td>pm10</td></tr>\n",
       "\t<tr><th scope=row>4</th><td>2016-02-04</td><td>T2-1</td><td>24</td><td>pm10</td></tr>\n",
       "\t<tr><th scope=row>5</th><td>2016-02-05</td><td>T2-1</td><td>19</td><td>pm10</td></tr>\n",
       "\t<tr><th scope=row>6</th><td>2016-02-08</td><td>T29-4S</td><td>14</td><td>pm10</td></tr>\n",
       "\t<tr><th scope=row>7</th><td>2016-02-09</td><td>T29-4S</td><td>24</td><td>pm10</td></tr>\n",
       "\t<tr><th scope=row>8</th><td>2016-02-10</td><td>T29-4S</td><td>22</td><td>pm10</td></tr>\n",
       "\t<tr><th scope=row>9</th><td>2016-02-10</td><td>T7</td><td>16</td><td>pm10</td></tr>\n",
       "\t<tr><th scope=row>10</th><td>2016-02-10</td><td>T7</td><td>16</td><td>wind</td></tr>\n",
       "\t<tr><th scope=row>11</th><td>2016-02-11</td><td>T29-4S</td><td>16</td><td>pm10</td></tr>\n",
       "\t<tr><th scope=row>12</th><td>2016-02-11</td><td>T7</td><td>24</td><td>pm10</td></tr>\n",
       "\t<tr><th scope=row>13</th><td>2016-02-11</td><td>T7</td><td>24</td><td>wind</td></tr>\n",
       "\t<tr><th scope=row>14</th><td>2016-02-12</td><td>T7</td><td>24</td><td>pm10</td></tr>\n",
       "\t<tr><th scope=row>15</th><td>2016-02-12</td><td>T7</td><td>24</td><td>wind</td></tr>\n",
       "\t<tr><th scope=row>16</th><td>2016-02-13</td><td>T7</td><td>24</td><td>pm10</td></tr>\n",
       "\t<tr><th scope=row>17</th><td>2016-02-13</td><td>T7</td><td>24</td><td>wind</td></tr>\n",
       "\t<tr><th scope=row>18</th><td>2016-02-14</td><td>T7</td><td>24</td><td>pm10</td></tr>\n",
       "\t<tr><th scope=row>19</th><td>2016-02-14</td><td>T7</td><td>24</td><td>wind</td></tr>\n",
       "\t<tr><th scope=row>20</th><td>2016-02-15</td><td>T7</td><td>24</td><td>pm10</td></tr>\n",
       "\t<tr><th scope=row>21</th><td>2016-02-15</td><td>T7</td><td>24</td><td>wind</td></tr>\n",
       "\t<tr><th scope=row>22</th><td>2016-02-16</td><td>T7</td><td>9</td><td>pm10</td></tr>\n",
       "\t<tr><th scope=row>23</th><td>2016-02-16</td><td>T7</td><td>9</td><td>wind</td></tr>\n",
       "\t<tr><th scope=row>24</th><td>2016-02-18</td><td>T29-4S</td><td>1</td><td>pm10</td></tr>\n",
       "\t<tr><th scope=row>25</th><td>2016-02-22</td><td>T29-4S</td><td>3</td><td>pm10</td></tr>\n",
       "\t<tr><th scope=row>26</th><td>2016-02-23</td><td>T7</td><td>10</td><td>pm10</td></tr>\n",
       "\t<tr><th scope=row>27</th><td>2016-02-23</td><td>T7</td><td>10</td><td>wind</td></tr>\n",
       "\t<tr><th scope=row>28</th><td>2016-02-24</td><td>T7</td><td>24</td><td>pm10</td></tr>\n",
       "\t<tr><th scope=row>29</th><td>2016-02-24</td><td>T7</td><td>24</td><td>wind</td></tr>\n",
       "\t<tr><th scope=row>30</th><td>2016-02-25</td><td>T7</td><td>9</td><td>pm10</td></tr>\n",
       "\t<tr><th scope=row>31</th><td>2016-02-25</td><td>T7</td><td>9</td><td>wind</td></tr>\n",
       "</tbody>\n",
       "</table>\n"
      ],
      "text/latex": [
       "\\begin{tabular}{r|llll}\n",
       "  & day & site & hours & flag\\\\\n",
       "\\hline\n",
       "\t1 & 2016-02-01 & T2-1 & 15 & pm10\\\\\n",
       "\t2 & 2016-02-02 & T2-1 & 24 & pm10\\\\\n",
       "\t3 & 2016-02-03 & T2-1 & 24 & pm10\\\\\n",
       "\t4 & 2016-02-04 & T2-1 & 24 & pm10\\\\\n",
       "\t5 & 2016-02-05 & T2-1 & 19 & pm10\\\\\n",
       "\t6 & 2016-02-08 & T29-4S & 14 & pm10\\\\\n",
       "\t7 & 2016-02-09 & T29-4S & 24 & pm10\\\\\n",
       "\t8 & 2016-02-10 & T29-4S & 22 & pm10\\\\\n",
       "\t9 & 2016-02-10 & T7 & 16 & pm10\\\\\n",
       "\t10 & 2016-02-10 & T7 & 16 & wind\\\\\n",
       "\t11 & 2016-02-11 & T29-4S & 16 & pm10\\\\\n",
       "\t12 & 2016-02-11 & T7 & 24 & pm10\\\\\n",
       "\t13 & 2016-02-11 & T7 & 24 & wind\\\\\n",
       "\t14 & 2016-02-12 & T7 & 24 & pm10\\\\\n",
       "\t15 & 2016-02-12 & T7 & 24 & wind\\\\\n",
       "\t16 & 2016-02-13 & T7 & 24 & pm10\\\\\n",
       "\t17 & 2016-02-13 & T7 & 24 & wind\\\\\n",
       "\t18 & 2016-02-14 & T7 & 24 & pm10\\\\\n",
       "\t19 & 2016-02-14 & T7 & 24 & wind\\\\\n",
       "\t20 & 2016-02-15 & T7 & 24 & pm10\\\\\n",
       "\t21 & 2016-02-15 & T7 & 24 & wind\\\\\n",
       "\t22 & 2016-02-16 & T7 & 9 & pm10\\\\\n",
       "\t23 & 2016-02-16 & T7 & 9 & wind\\\\\n",
       "\t24 & 2016-02-18 & T29-4S & 1 & pm10\\\\\n",
       "\t25 & 2016-02-22 & T29-4S & 3 & pm10\\\\\n",
       "\t26 & 2016-02-23 & T7 & 10 & pm10\\\\\n",
       "\t27 & 2016-02-23 & T7 & 10 & wind\\\\\n",
       "\t28 & 2016-02-24 & T7 & 24 & pm10\\\\\n",
       "\t29 & 2016-02-24 & T7 & 24 & wind\\\\\n",
       "\t30 & 2016-02-25 & T7 & 9 & pm10\\\\\n",
       "\t31 & 2016-02-25 & T7 & 9 & wind\\\\\n",
       "\\end{tabular}\n"
      ],
      "text/plain": [
       "Source: local data frame [31 x 4]\n",
       "\n",
       "          day   site hours  flag\n",
       "       (date)  (chr) (int) (chr)\n",
       "1  2016-02-01   T2-1    15  pm10\n",
       "2  2016-02-02   T2-1    24  pm10\n",
       "3  2016-02-03   T2-1    24  pm10\n",
       "4  2016-02-04   T2-1    24  pm10\n",
       "5  2016-02-05   T2-1    19  pm10\n",
       "6  2016-02-08 T29-4S    14  pm10\n",
       "7  2016-02-09 T29-4S    24  pm10\n",
       "8  2016-02-10 T29-4S    22  pm10\n",
       "9  2016-02-10     T7    16  pm10\n",
       "10 2016-02-10     T7    16  wind\n",
       "..        ...    ...   ...   ..."
      ]
     },
     "execution_count": 10,
     "metadata": {},
     "output_type": "execute_result"
    }
   ],
   "source": [
    "teom_data <- inner_join(df1, select(teom_locs, deployment.id, deployment),\n",
    "                  by=\"deployment.id\") %>%\n",
    "  left_join(pm10_df, by=c(\"datetime\"=\"datetime_hour\", \"deployment\")) %>%\n",
    "  mutate(pm10 = ifelse(is.na(pm10.avg.x), pm10.avg.y, pm10.avg.x)) %>%\n",
    "  select(-pm10.avg.x, -pm10.avg.y) \n",
    "find_missing(teom_data)"
   ]
  },
  {
   "cell_type": "code",
   "execution_count": 16,
   "metadata": {
    "collapsed": false
   },
   "outputs": [],
   "source": [
    "teom_locs <- pair_teoms(teom_locs)\n",
    "teom_locs <- assign_wind_angle(teom_locs)\n",
    "df1 <- inner_join(teom_data, select(teom_locs, deployment.id, dca.group, position), by=\"deployment.id\")\n",
    "events <- define_event(df1, teom_locs)\n",
    "joined_events <- inner_join(filter(events, tag==\"UW\"), filter(events, tag==\"DW\"), by=c(\"datetime\", \"dca.group\"))"
   ]
  },
  {
   "cell_type": "code",
   "execution_count": 17,
   "metadata": {
    "collapsed": true
   },
   "outputs": [],
   "source": [
    "clean_events <- joined_events %>% \n",
    "  group_by(data.id.x) %>%\n",
    "  dplyr::select(datetime, dca.group,\n",
    "                teom.uw=deployment.x, ws.uw=ws.x, wd.uw=wd.x, \n",
    "                pm10.uw=pm10.x, \n",
    "                teom.dw=deployment.y, ws.dw=ws.y, wd.dw=wd.y, \n",
    "                pm10.dw=pm10.y) %>%\n",
    "  mutate(day=lubridate::day(datetime),\n",
    "         ws.avg=mean(c(ws.uw, ws.dw))) %>%\n",
    "  filter(ws.uw!=0,  ws.dw!=0) %>% arrange(datetime) %>%\n",
    "  ungroup() \n",
    "daily_summary <- clean_events %>% group_by(day, dca.group) %>%\n",
    "  summarize(daily.pm10.uw=sum(pm10.uw)/24, daily.pm10.dw=sum(pm10.dw)/24,\n",
    "            # convert wind speed from mph to m/s\n",
    "            ws.avg.mps=mean(c(ws.uw, ws.dw))*.44704) %>%\n",
    "mutate(pm10.delta=daily.pm10.dw - daily.pm10.uw) %>% ungroup()"
   ]
  },
  {
   "cell_type": "code",
   "execution_count": 18,
   "metadata": {
    "collapsed": false
   },
   "outputs": [
    {
     "data": {
      "text/html": [
       "<table>\n",
       "<thead><tr><th></th><th scope=col>day</th><th scope=col>dca.group</th><th scope=col>daily.pm10.uw</th><th scope=col>daily.pm10.dw</th><th scope=col>ws.avg.mps</th><th scope=col>pm10.delta</th></tr></thead>\n",
       "<tbody>\n",
       "\t<tr><th scope=row>1</th><td>1</td><td>central (T12)</td><td>0.5807792264</td><td>0.6625228819</td><td>3.811119542</td><td>0.08174365556</td></tr>\n",
       "\t<tr><th scope=row>2</th><td>1</td><td>north (T29)</td><td>2.990679403</td><td>2.827001805</td><td>4.648908751</td><td>-0.1636775986</td></tr>\n",
       "\t<tr><th scope=row>3</th><td>1</td><td>south (T2 & T3)</td><td>0.1307083333</td><td>NA</td><td>3.926629585</td><td>NA</td></tr>\n",
       "\t<tr><th scope=row>4</th><td>2</td><td>north (T29)</td><td>0.8030268063</td><td>0.7126843035</td><td>1.330606392</td><td>-0.09034250278</td></tr>\n",
       "\t<tr><th scope=row>5</th><td>3</td><td>north (T29)</td><td>0.2267996667</td><td>0.2742449236</td><td>0.5913806185</td><td>0.04744525694</td></tr>\n",
       "\t<tr><th scope=row>6</th><td>4</td><td>north (T29)</td><td>0.299111125</td><td>0.3138987917</td><td>0.6570895761</td><td>0.01478766667</td></tr>\n",
       "</tbody>\n",
       "</table>\n"
      ],
      "text/latex": [
       "\\begin{tabular}{r|llllll}\n",
       "  & day & dca.group & daily.pm10.uw & daily.pm10.dw & ws.avg.mps & pm10.delta\\\\\n",
       "\\hline\n",
       "\t1 & 1 & central (T12) & 0.5807792264 & 0.6625228819 & 3.811119542 & 0.08174365556\\\\\n",
       "\t2 & 1 & north (T29) & 2.990679403 & 2.827001805 & 4.648908751 & -0.1636775986\\\\\n",
       "\t3 & 1 & south (T2 & T3) & 0.1307083333 & NA & 3.926629585 & NA\\\\\n",
       "\t4 & 2 & north (T29) & 0.8030268063 & 0.7126843035 & 1.330606392 & -0.09034250278\\\\\n",
       "\t5 & 3 & north (T29) & 0.2267996667 & 0.2742449236 & 0.5913806185 & 0.04744525694\\\\\n",
       "\t6 & 4 & north (T29) & 0.299111125 & 0.3138987917 & 0.6570895761 & 0.01478766667\\\\\n",
       "\\end{tabular}\n"
      ],
      "text/plain": [
       "Source: local data frame [6 x 6]\n",
       "\n",
       "    day       dca.group daily.pm10.uw daily.pm10.dw   ws.avg.mps     pm10.delta\n",
       "  (int)           (chr)         (dbl)         (dbl)        (dbl)          (dbl)\n",
       "1     1   central (T12)  0.5807792264  0.6625228819 3.8111195416  0.08174365556\n",
       "2     1     north (T29)  2.9906794035  2.8270018049 4.6489087512 -0.16367759861\n",
       "3     1 south (T2 & T3)  0.1307083333            NA 3.9266295849             NA\n",
       "4     2     north (T29)  0.8030268063  0.7126843035 1.3306063917 -0.09034250278\n",
       "5     3     north (T29)  0.2267996667  0.2742449236 0.5913806185  0.04744525694\n",
       "6     4     north (T29)  0.2991111250  0.3138987917 0.6570895761  0.01478766667"
      ]
     },
     "execution_count": 18,
     "metadata": {},
     "output_type": "execute_result"
    }
   ],
   "source": [
    "head(daily_summary)"
   ]
  },
  {
   "cell_type": "code",
   "execution_count": 20,
   "metadata": {
    "collapsed": false
   },
   "outputs": [
    {
     "data": {
      "text/html": [
       "<table>\n",
       "<thead><tr><th></th><th scope=col>day</th><th scope=col>dca.group</th><th scope=col>daily.pm10.uw</th><th scope=col>daily.pm10.dw</th><th scope=col>ws.avg.mps</th><th scope=col>pm10.delta</th></tr></thead>\n",
       "<tbody>\n",
       "\t<tr><th scope=row>1</th><td>14</td><td>north (T29)</td><td>3.306918699</td><td>16.26408399</td><td>3.474361134</td><td>12.95716529</td></tr>\n",
       "</tbody>\n",
       "</table>\n"
      ],
      "text/latex": [
       "\\begin{tabular}{r|llllll}\n",
       "  & day & dca.group & daily.pm10.uw & daily.pm10.dw & ws.avg.mps & pm10.delta\\\\\n",
       "\\hline\n",
       "\t1 & 14 & north (T29) & 3.306918699 & 16.26408399 & 3.474361134 & 12.95716529\\\\\n",
       "\\end{tabular}\n"
      ],
      "text/plain": [
       "Source: local data frame [1 x 6]\n",
       "\n",
       "    day   dca.group daily.pm10.uw daily.pm10.dw  ws.avg.mps  pm10.delta\n",
       "  (int)       (chr)         (dbl)         (dbl)       (dbl)       (dbl)\n",
       "1    14 north (T29)   3.306918699   16.26408399 3.474361134 12.95716529"
      ]
     },
     "execution_count": 20,
     "metadata": {},
     "output_type": "execute_result"
    }
   ],
   "source": [
    "filter(daily_summary, pm10.delta > 10)"
   ]
  },
  {
   "cell_type": "code",
   "execution_count": 24,
   "metadata": {
    "collapsed": false
   },
   "outputs": [
    {
     "data": {
      "text/html": [
       "<table>\n",
       "<thead><tr><th></th><th scope=col>day</th><th scope=col>dca.group</th><th scope=col>daily.pm10.uw</th><th scope=col>daily.pm10.dw</th><th scope=col>ws.avg.mps</th><th scope=col>pm10.delta</th></tr></thead>\n",
       "<tbody>\n",
       "\t<tr><th scope=row>1</th><td>14</td><td>north (T29)</td><td>3.306918699</td><td>16.26408399</td><td>3.474361134</td><td>12.95716529</td></tr>\n",
       "\t<tr><th scope=row>2</th><td>17</td><td>central (T12)</td><td>6.454240887</td><td>16.38753817</td><td>4.471859615</td><td>9.933297287</td></tr>\n",
       "\t<tr><th scope=row>3</th><td>18</td><td>north (T29)</td><td>2.099753976</td><td>3.457538772</td><td>4.453607127</td><td>1.357784796</td></tr>\n",
       "\t<tr><th scope=row>4</th><td>7</td><td>north (T29)</td><td>1.845111528</td><td>2.988152222</td><td>3.51907973</td><td>1.143040694</td></tr>\n",
       "\t<tr><th scope=row>5</th><td>26</td><td>central (T12)</td><td>0.7728046361</td><td>1.28263284</td><td>3.854925513</td><td>0.5098282042</td></tr>\n",
       "\t<tr><th scope=row>6</th><td>27</td><td>north (T29)</td><td>0.7251562361</td><td>1.035465338</td><td>1.106100787</td><td>0.3103091014</td></tr>\n",
       "</tbody>\n",
       "</table>\n"
      ],
      "text/latex": [
       "\\begin{tabular}{r|llllll}\n",
       "  & day & dca.group & daily.pm10.uw & daily.pm10.dw & ws.avg.mps & pm10.delta\\\\\n",
       "\\hline\n",
       "\t1 & 14 & north (T29) & 3.306918699 & 16.26408399 & 3.474361134 & 12.95716529\\\\\n",
       "\t2 & 17 & central (T12) & 6.454240887 & 16.38753817 & 4.471859615 & 9.933297287\\\\\n",
       "\t3 & 18 & north (T29) & 2.099753976 & 3.457538772 & 4.453607127 & 1.357784796\\\\\n",
       "\t4 & 7 & north (T29) & 1.845111528 & 2.988152222 & 3.51907973 & 1.143040694\\\\\n",
       "\t5 & 26 & central (T12) & 0.7728046361 & 1.28263284 & 3.854925513 & 0.5098282042\\\\\n",
       "\t6 & 27 & north (T29) & 0.7251562361 & 1.035465338 & 1.106100787 & 0.3103091014\\\\\n",
       "\\end{tabular}\n"
      ],
      "text/plain": [
       "Source: local data frame [6 x 6]\n",
       "\n",
       "    day     dca.group daily.pm10.uw daily.pm10.dw  ws.avg.mps    pm10.delta\n",
       "  (int)         (chr)         (dbl)         (dbl)       (dbl)         (dbl)\n",
       "1    14   north (T29)  3.3069186993  16.264083990 3.474361134 12.9571652911\n",
       "2    17 central (T12)  6.4542408872  16.387538174 4.471859615  9.9332972871\n",
       "3    18   north (T29)  2.0997539760   3.457538772 4.453607127  1.3577847955\n",
       "4     7   north (T29)  1.8451115278   2.988152222 3.519079730  1.1430406944\n",
       "5    26 central (T12)  0.7728046361   1.282632840 3.854925513  0.5098282042\n",
       "6    27   north (T29)  0.7251562361   1.035465338 1.106100787  0.3103091014"
      ]
     },
     "execution_count": 24,
     "metadata": {},
     "output_type": "execute_result"
    }
   ],
   "source": [
    "head(arrange(daily_summary, desc(pm10.delta)))"
   ]
  },
  {
   "cell_type": "code",
   "execution_count": null,
   "metadata": {
    "collapsed": true
   },
   "outputs": [],
   "source": []
  }
 ],
 "metadata": {
  "kernelspec": {
   "display_name": "R",
   "language": "R",
   "name": "ir"
  },
  "language_info": {
   "codemirror_mode": "r",
   "file_extension": ".r",
   "mimetype": "text/x-r-source",
   "name": "R",
   "pygments_lexer": "r",
   "version": "3.2.4"
  }
 },
 "nbformat": 4,
 "nbformat_minor": 0
}
