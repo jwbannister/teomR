{
 "cells": [
  {
   "cell_type": "code",
   "execution_count": 1,
   "metadata": {
    "collapsed": false
   },
   "outputs": [
    {
     "name": "stderr",
     "output_type": "stream",
     "text": [
      "Loading teomR\n",
      "Loading Rowens\n"
     ]
    }
   ],
   "source": [
    "load_all(\"/home/john/analysis/teomR\")\n",
    "load_all(\"/home/john/analysis/Rowens\")"
   ]
  },
  {
   "cell_type": "code",
   "execution_count": null,
   "metadata": {
    "collapsed": true
   },
   "outputs": [],
   "source": [
    "start.date <- \"2016-02-01\"\n",
    "end.date <- \"2016-03-01\""
   ]
  },
  {
   "cell_type": "code",
   "execution_count": null,
   "metadata": {
    "collapsed": true
   },
   "outputs": [],
   "source": [
    "teom_met <- pull_teom_wind(start.date, end.date)\n",
    "mfile <- pull_mfile_wind(start.date, end.date)\n",
    "df1 <- rbind(teom_met, mfile)\n",
    "deploys <- as.character(unique(df1$deployment.id))\n",
    "teom_locs <- pull_locations(deploys)\n",
    "pm10_df <- pull_pm10(start.date, end.date, deploys)\n",
    "teom_data <- inner_join(df1, select(teom_locs, deployment.id, deployment),\n",
    "                  by=\"deployment.id\") %>%\n",
    "  left_join(pm10_df, by=c(\"datetime\"=\"datetime_hour\", \"deployment\")) %>%\n",
    "  mutate(pm10 = ifelse(is.na(pm10.avg.x), pm10.avg.y, pm10.avg.x)) %>%\n",
    "  select(-pm10.avg.x, -pm10.avg.y) \n",
    "\n",
    "missing_data <- find_missing(teom_data)\n",
    "\n",
    "twb2_dcas <- list(\"north (T29)\" = c(\"T29-3\", \"T29-4\"),\n",
    "                  \"central (T12)\" = c(\"T12-1\"),\n",
    "                  \"south (T2 & T3)\" = c(\"T3SW\", \"T3SE\", \"T2-2\", \"T2-3\", \n",
    "                                        \"T2-4\", \"T5-4\"))"
   ]
  }
 ],
 "metadata": {
  "kernelspec": {
   "display_name": "R",
   "language": "R",
   "name": "ir"
  },
  "language_info": {
   "codemirror_mode": "r",
   "file_extension": ".r",
   "mimetype": "text/x-r-source",
   "name": "R",
   "pygments_lexer": "r",
   "version": "3.2.4"
  }
 },
 "nbformat": 4,
 "nbformat_minor": 0
}
